{
 "cells": [
  {
   "metadata": {},
   "cell_type": "markdown",
   "source": [
    "# Uploading Documents to a Store\n",
    "\n",
    "It is a common need to be able to upload a file to a document store for processing.\n",
    "\n",
    "In order to do this you will typically need to have API tokens, and the reference for the store.\n",
    "\n",
    "First, make sure you have setup your environment, using https://developer.kodexa.ai/getting-started\n"
   ],
   "id": "9b95296fdf193529"
  },
  {
   "metadata": {},
   "cell_type": "code",
   "outputs": [],
   "execution_count": null,
   "source": [
    "from kodexa import KodexaClient\n",
    "import os\n",
    "\n",
    "# Set up environment variables\n",
    "os.environ['KODEXA_URL'] = '<https://your-kodexa-url.com>'\n",
    "os.environ['KODEXA_ACCESS_TOKEN'] = 'your-access-token'\n",
    "\n",
    "# Create a KodexaClient instance\n",
    "client = KodexaClient(\n",
    "    url=os.environ.get('KODEXA_URL'),\n",
    "    access_token=os.environ.get('KODEXA_ACCESS_TOKEN')\n",
    ")"
   ],
   "id": "b0b181297a5fa4d2"
  },
  {
   "metadata": {},
   "cell_type": "markdown",
   "source": [
    "In the Manage Project you will see a Data Flow, here you can choose the store you want to upload the document to.\n",
    "\n",
    "In the properties panel you can click \"Copy Store Reference\"\n",
    "\n",
    "![Copy Store Reference](store-properties.png)\n"
   ],
   "id": "657e31819f21ce55"
  },
  {
   "metadata": {},
   "cell_type": "markdown",
   "source": [
    "The store reference will look similar to this:\n",
    "\n",
    "```\n",
    "c16ea4bd-9682-44f4-a7fa-e582728c274f/8bb95973-dda6-4b46-ba75-9cc02067f5bd-processing:1.0.0\n",
    "```\n",
    "\n",
    "You will then be able to look up the store using the reference."
   ],
   "id": "52162c807910f01b"
  },
  {
   "metadata": {},
   "cell_type": "code",
   "outputs": [],
   "execution_count": null,
   "source": [
    "from kodexa.platform.client import DocumentStoreEndpoint\n",
    "\n",
    "store: DocumentStoreEndpoint = client.get_object_by_ref(\"store\", \"c16ea4bd-9682-44f4-a7fa-e582728c274f/8bb95973-dda6-4b46-ba75-9cc02067f5bd-processing:1.0.0\")\n",
    "\n",
    "# We can then use the document store endpoint to upload the content\n",
    "\n",
    "store.upload_file(\"bank-statement.pdf\")"
   ],
   "id": "64d8dad5a3e97606"
  }
 ],
 "metadata": {
  "kernelspec": {
   "display_name": "Python 3",
   "language": "python",
   "name": "python3"
  },
  "language_info": {
   "codemirror_mode": {
    "name": "ipython",
    "version": 2
   },
   "file_extension": ".py",
   "mimetype": "text/x-python",
   "name": "python",
   "nbconvert_exporter": "python",
   "pygments_lexer": "ipython2",
   "version": "2.7.6"
  }
 },
 "nbformat": 4,
 "nbformat_minor": 5
}
