{
 "cells": [
  {
   "metadata": {},
   "cell_type": "markdown",
   "source": [
    "# Get DataObjects for Documents\n",
    "\n",
    "Often you will want to access a document that has been uploaded and processed and then download the data objects, this can be done using the data store endpoints.\n",
    "\n",
    "First, make sure you have setup your environment, using https://developer.kodexa.ai/getting-started\n",
    "\n",
    "Then you will want to go to your project and then to the Data Flow, here you can choose the both the document store and also the reference for the data store.\n",
    "\n",
    "We will need both since we will want to look up our document in the document store and then use it to find the data objects from the data store that are related to the document.\n",
    "\n",
    "![Copy Store Reference](store-properties.png)\n",
    "\n",
    "The store references will look similar to this:\n",
    "\n",
    "```\n",
    "c16ea4bd-9682-44f4-a7fa-e582728c274f/8bb95973-dda6-4b46-ba75-9cc02067f5bd-processing:1.0.0\n",
    "\n",
    "c16ea4bd-9682-44f4-a7fa-e582728c274f/8bb95973-dda6-4b46-ba75-9cc02067f5bd-extracted-data:1.0.0\n",
    "\n",
    "```\n",
    "\n",
    "You will then be able to look up the store using the reference."
   ],
   "id": "6f0f2bf4ba449b21"
  },
  {
   "metadata": {},
   "cell_type": "code",
   "outputs": [],
   "execution_count": null,
   "source": [
    "from kodexa import KodexaClient\n",
    "import os\n",
    "\n",
    "# Set up environment variables\n",
    "os.environ['KODEXA_URL'] = '<https://your-kodexa-url.com>'\n",
    "os.environ['KODEXA_ACCESS_TOKEN'] = 'your-access-token'\n",
    "\n",
    "# Create a KodexaClient instance\n",
    "client = KodexaClient(\n",
    "    url=os.environ.get('KODEXA_URL'),\n",
    "    access_token=os.environ.get('KODEXA_ACCESS_TOKEN')\n",
    ")"
   ],
   "id": "75c9b46f7f02bad8"
  },
  {
   "metadata": {},
   "cell_type": "code",
   "outputs": [],
   "execution_count": null,
   "source": [
    "from kodexa.platform.client import DocumentStoreEndpoint, DataStoreEndpoint\n",
    "\n",
    "document_store: DocumentStoreEndpoint = client.get_object_by_ref(\"store\", \"c16ea4bd-9682-44f4-a7fa-e582728c274f/8bb95973-dda6-4b46-ba75-9cc02067f5bd-processing:1.0.0\")\n",
    "\n",
    "data_store: DataStoreEndpoint = client.get_object_by_ref(\"store\", \"c16ea4bd-9682-44f4-a7fa-e582728c274f/8bb95973-dda6-4b46-ba75-9cc02067f5bd-extracted-data:1.0.0\")\n",
    "\n",
    "# We can then use the document store endpoint to upload the content\n",
    "\n",
    "document_family = document_store.get_by_path(\"bank-statement.pdf\")\n",
    "\n",
    "json_string = data_store.get_data_objects_export(document_family)"
   ],
   "id": "c4ff516ec50cecac"
  }
 ],
 "metadata": {
  "kernelspec": {
   "display_name": "Python 3",
   "language": "python",
   "name": "python3"
  },
  "language_info": {
   "codemirror_mode": {
    "name": "ipython",
    "version": 2
   },
   "file_extension": ".py",
   "mimetype": "text/x-python",
   "name": "python",
   "nbconvert_exporter": "python",
   "pygments_lexer": "ipython2",
   "version": "2.7.6"
  }
 },
 "nbformat": 4,
 "nbformat_minor": 5
}
