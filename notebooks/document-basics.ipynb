{
 "cells": [
  {
   "cell_type": "code",
   "execution_count": 3,
   "metadata": {},
   "outputs": [],
   "source": [
    "from kodexa import *\n",
    "\n",
    "\n",
    "# Let's start by loading a Kodexa Document that represents a bank statment\n",
    "\n",
    "kodexa_document = Document.from_kddb(\"bank-statement.kddb\")"
   ]
  },
  {
   "cell_type": "code",
   "execution_count": 4,
   "metadata": {},
   "outputs": [],
   "source": [
    "# Lets grab the first page of the document\n",
    "\n",
    "page = kodexa_document.select_first(\"//page\")"
   ]
  },
  {
   "cell_type": "code",
   "execution_count": null,
   "metadata": {},
   "outputs": [
    {
     "name": "stdout",
     "output_type": "stream",
     "text": [
      "                                          1000         Walnut\n",
      "                                          Kansas             City       MO        64106-3686\n",
      "                                          Jane           Customer\n",
      "                                          1234          Anywhere                      Dr.\n",
      "                                          Small            Town,             MO         12345-6789\n",
      "                                                                                                                                                                                                       Primary            Account             Number:                       000009752\n",
      "                                          Bank             Statement\n",
      "                                                                                                                                                                                                          Statement               Date:                               June         5,    2003 If   you       have        any       questions              about          your        statement,\n",
      "                                                                                                                                                                                                          Page        Number:                                                                   1 please          call      us     at    816-234-2265\n",
      "                                                                                                            Account            #   000009752 CONNECTIONS                          CHECKING\n",
      "                                                                                        Account            #   000009752 Account             Summary\n",
      "                                          Beginning              Balance            on    May       3,    2003                                                                                                                                                               $7,126.11\n",
      "                                          Deposits            &   Other        Credits                                                                                                                                                                                       +3,615.08\n",
      "                                          ATM        Withdrawals                 &   Debits                                                                                                                                                                                          -20.00\n",
      "                                          VISA        Check          Card        Purchases               &   Debits                                                                                                                                                                     -0.00\n",
      "                                          Withdrawals                &    Other        Debits                                                                                                                                                                                           -0.00\n",
      "                                          Checks           Paid                                                                                                                                                                                                                   -200.00\n",
      "                                                                                                  Ending          Balance            on     June        5,   2003                                                                                                          $10,521.19\n",
      "                                                                                                      Account           #   000009752 Deposits              &   Other         Credits\n",
      "                                          Description                                                                                                                                                    Date        Credited                                                   Amount\n",
      "                                          Deposit                                                                       Ref      Nbr:           130012345                                                      05-15                                                          $3,615.08\n",
      "                                          Total        Deposits             &    Other         Credits                                                                                                                                                                       $3,615.08\n",
      "                                                                                                         Account            #   000009752 ATM         Withdrawals                   &   Debits\n",
      "                                          Description                                                                                                                      Tran       Date                    Date       Paid                                                   Amount\n",
      "                                          ATM        Withdrawal\n",
      "                                          1000        Walnut          St           M119\n",
      "                                          Kansas           City      MO           00005678                                                                                     05-18                              05-19                                                             $20.00\n",
      "                                          Total        ATM        Withdrawals                   &    Debits                                                                                                                                                                         $20.00\n",
      "                                                                         Account            #   000009752 ChecksPaid\n",
      "                                          Date        Paid                 Check          Number                      Amount                    Reference               Number\n",
      "                                          05-12                            1001                                               75.00             00012576589\n",
      "                                          05-18                            1002                                               30.00             00036547854\n",
      "                                          05-24                            1003                                            200.00               00094613547\n",
      "                                          Total        Checks            Paid                                                                                                                                                                                                    $305.00\n",
      "\n"
     ]
    }
   ],
   "source": [
    "from kodexa.model.utils import get_pretty_page\n",
    "\n",
    "# Let's print out the page in a pretty way\n",
    "\n",
    "print(get_pretty_page(page))"
   ]
  },
  {
   "cell_type": "code",
   "execution_count": null,
   "metadata": {},
   "outputs": [],
   "source": []
  },
  {
   "cell_type": "markdown",
   "metadata": {},
   "source": []
  }
 ],
 "metadata": {
  "kernelspec": {
   "display_name": "base",
   "language": "python",
   "name": "python3"
  },
  "language_info": {
   "codemirror_mode": {
    "name": "ipython",
    "version": 3
   },
   "file_extension": ".py",
   "mimetype": "text/x-python",
   "name": "python",
   "nbconvert_exporter": "python",
   "pygments_lexer": "ipython3",
   "version": "3.9.7"
  }
 },
 "nbformat": 4,
 "nbformat_minor": 2
}
